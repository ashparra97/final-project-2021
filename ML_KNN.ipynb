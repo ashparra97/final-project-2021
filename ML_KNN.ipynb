{
 "cells": [
  {
   "cell_type": "markdown",
   "source": [
    "# Get data from server"
   ],
   "metadata": {}
  },
  {
   "cell_type": "code",
   "execution_count": 36,
   "source": [
    "import matplotlib.pyplot as plt\n",
    "from sklearn.model_selection import train_test_split\n",
    "from sklearn.neighbors import KNeighborsClassifier\n",
    "from sklearn import preprocessing\n",
    "from sklearn.linear_model import LogisticRegression\n",
    "import numpy as np\n",
    "import pandas as pd"
   ],
   "outputs": [],
   "metadata": {}
  },
  {
   "cell_type": "code",
   "execution_count": null,
   "source": [
    "# import datetime\n",
    "# import sqlalchemy\n",
    "# from sqlalchemy.ext.automap import automap_base\n",
    "# from sqlalchemy.orm import Session\n",
    "# from sqlalchemy import create_engine, inspect, func\n",
    "\n",
    "# from sqlalchemy import create_engine"
   ],
   "outputs": [],
   "metadata": {}
  },
  {
   "cell_type": "code",
   "execution_count": null,
   "source": [
    "# # user_name_var = input('What is the username of your database? ')\n",
    "# host_var = input('What is the host address of your database?')\n",
    "# pw = input(\"Enter the database password: \")\n",
    "# # db_name = input(\"Enter the name of the database: \")\n",
    "\n",
    "# string_output = \"postgresql://root\"+':'+pw+'@'+host_var+\":5432\"+'/postgres'"
   ],
   "outputs": [],
   "metadata": {}
  },
  {
   "cell_type": "code",
   "execution_count": null,
   "source": [
    "# engine = create_engine(string_output)\n",
    "# connection = engine.connect()\n",
    "# print(\"Connected to database...\")"
   ],
   "outputs": [],
   "metadata": {}
  },
  {
   "cell_type": "code",
   "execution_count": null,
   "source": [
    "# data = pd.read_sql_table(\n",
    "#     \"earthquake_raw\",\n",
    "#     con=engine\n",
    "# )\n",
    "# data"
   ],
   "outputs": [],
   "metadata": {}
  },
  {
   "cell_type": "markdown",
   "source": [
    "# Load data to model"
   ],
   "metadata": {}
  },
  {
   "cell_type": "code",
   "execution_count": 20,
   "source": [
    "data = pd.read_csv('Data_Extraction_Transform/dropped_cols_month_earthquake.csv')\n",
    "data.head()"
   ],
   "outputs": [
    {
     "output_type": "execute_result",
     "data": {
      "text/plain": [
       "   Unnamed: 0            id  tsunami  felt                      time  \\\n",
       "0           0    nn00818986        0   NaN  2021-08-19T02:53:29.951Z   \n",
       "1           1    ci40014776        0   NaN  2021-08-19T02:49:35.880Z   \n",
       "2           2  ak021am2mkg5        0   NaN  2021-08-19T02:49:14.046Z   \n",
       "3           3    nc73611791        0   NaN  2021-08-19T02:46:16.400Z   \n",
       "4           4  ak021am2l4yc        0   NaN  2021-08-19T02:42:46.880Z   \n",
       "\n",
       "    latitude   longitude   depth   mag magType    gap net  \\\n",
       "0  38.541200 -119.463900    3.60  1.30      ml  58.29  nn   \n",
       "1  35.896667 -117.729167    4.48  0.72      ml  72.00  ci   \n",
       "2  59.865100 -153.176400  102.60  1.60      ml    NaN  ak   \n",
       "3  38.784668 -122.751000    0.33  1.03      md  84.00  nc   \n",
       "4  56.657400 -157.265100    0.50  2.90      ml    NaN  ak   \n",
       "\n",
       "                    updated                           place        type  \\\n",
       "0  2021-08-19T02:56:56.695Z  3 km NNE of Walker, California  earthquake   \n",
       "1  2021-08-19T02:53:05.273Z     17km ESE of Little Lake, CA  earthquake   \n",
       "2  2021-08-19T03:02:14.791Z    52 km E of Pedro Bay, Alaska  earthquake   \n",
       "3  2021-08-19T02:47:54.191Z      1km NNE of The Geysers, CA  earthquake   \n",
       "4  2021-08-19T02:50:26.938Z    80 km ENE of Chignik, Alaska  earthquake   \n",
       "\n",
       "   type_encoder locationSource  \n",
       "0             1             nn  \n",
       "1             1             ci  \n",
       "2             1             ak  \n",
       "3             1             nc  \n",
       "4             1             ak  "
      ],
      "text/html": [
       "<div>\n",
       "<style scoped>\n",
       "    .dataframe tbody tr th:only-of-type {\n",
       "        vertical-align: middle;\n",
       "    }\n",
       "\n",
       "    .dataframe tbody tr th {\n",
       "        vertical-align: top;\n",
       "    }\n",
       "\n",
       "    .dataframe thead th {\n",
       "        text-align: right;\n",
       "    }\n",
       "</style>\n",
       "<table border=\"1\" class=\"dataframe\">\n",
       "  <thead>\n",
       "    <tr style=\"text-align: right;\">\n",
       "      <th></th>\n",
       "      <th>Unnamed: 0</th>\n",
       "      <th>id</th>\n",
       "      <th>tsunami</th>\n",
       "      <th>felt</th>\n",
       "      <th>time</th>\n",
       "      <th>latitude</th>\n",
       "      <th>longitude</th>\n",
       "      <th>depth</th>\n",
       "      <th>mag</th>\n",
       "      <th>magType</th>\n",
       "      <th>gap</th>\n",
       "      <th>net</th>\n",
       "      <th>updated</th>\n",
       "      <th>place</th>\n",
       "      <th>type</th>\n",
       "      <th>type_encoder</th>\n",
       "      <th>locationSource</th>\n",
       "    </tr>\n",
       "  </thead>\n",
       "  <tbody>\n",
       "    <tr>\n",
       "      <th>0</th>\n",
       "      <td>0</td>\n",
       "      <td>nn00818986</td>\n",
       "      <td>0</td>\n",
       "      <td>NaN</td>\n",
       "      <td>2021-08-19T02:53:29.951Z</td>\n",
       "      <td>38.541200</td>\n",
       "      <td>-119.463900</td>\n",
       "      <td>3.60</td>\n",
       "      <td>1.30</td>\n",
       "      <td>ml</td>\n",
       "      <td>58.29</td>\n",
       "      <td>nn</td>\n",
       "      <td>2021-08-19T02:56:56.695Z</td>\n",
       "      <td>3 km NNE of Walker, California</td>\n",
       "      <td>earthquake</td>\n",
       "      <td>1</td>\n",
       "      <td>nn</td>\n",
       "    </tr>\n",
       "    <tr>\n",
       "      <th>1</th>\n",
       "      <td>1</td>\n",
       "      <td>ci40014776</td>\n",
       "      <td>0</td>\n",
       "      <td>NaN</td>\n",
       "      <td>2021-08-19T02:49:35.880Z</td>\n",
       "      <td>35.896667</td>\n",
       "      <td>-117.729167</td>\n",
       "      <td>4.48</td>\n",
       "      <td>0.72</td>\n",
       "      <td>ml</td>\n",
       "      <td>72.00</td>\n",
       "      <td>ci</td>\n",
       "      <td>2021-08-19T02:53:05.273Z</td>\n",
       "      <td>17km ESE of Little Lake, CA</td>\n",
       "      <td>earthquake</td>\n",
       "      <td>1</td>\n",
       "      <td>ci</td>\n",
       "    </tr>\n",
       "    <tr>\n",
       "      <th>2</th>\n",
       "      <td>2</td>\n",
       "      <td>ak021am2mkg5</td>\n",
       "      <td>0</td>\n",
       "      <td>NaN</td>\n",
       "      <td>2021-08-19T02:49:14.046Z</td>\n",
       "      <td>59.865100</td>\n",
       "      <td>-153.176400</td>\n",
       "      <td>102.60</td>\n",
       "      <td>1.60</td>\n",
       "      <td>ml</td>\n",
       "      <td>NaN</td>\n",
       "      <td>ak</td>\n",
       "      <td>2021-08-19T03:02:14.791Z</td>\n",
       "      <td>52 km E of Pedro Bay, Alaska</td>\n",
       "      <td>earthquake</td>\n",
       "      <td>1</td>\n",
       "      <td>ak</td>\n",
       "    </tr>\n",
       "    <tr>\n",
       "      <th>3</th>\n",
       "      <td>3</td>\n",
       "      <td>nc73611791</td>\n",
       "      <td>0</td>\n",
       "      <td>NaN</td>\n",
       "      <td>2021-08-19T02:46:16.400Z</td>\n",
       "      <td>38.784668</td>\n",
       "      <td>-122.751000</td>\n",
       "      <td>0.33</td>\n",
       "      <td>1.03</td>\n",
       "      <td>md</td>\n",
       "      <td>84.00</td>\n",
       "      <td>nc</td>\n",
       "      <td>2021-08-19T02:47:54.191Z</td>\n",
       "      <td>1km NNE of The Geysers, CA</td>\n",
       "      <td>earthquake</td>\n",
       "      <td>1</td>\n",
       "      <td>nc</td>\n",
       "    </tr>\n",
       "    <tr>\n",
       "      <th>4</th>\n",
       "      <td>4</td>\n",
       "      <td>ak021am2l4yc</td>\n",
       "      <td>0</td>\n",
       "      <td>NaN</td>\n",
       "      <td>2021-08-19T02:42:46.880Z</td>\n",
       "      <td>56.657400</td>\n",
       "      <td>-157.265100</td>\n",
       "      <td>0.50</td>\n",
       "      <td>2.90</td>\n",
       "      <td>ml</td>\n",
       "      <td>NaN</td>\n",
       "      <td>ak</td>\n",
       "      <td>2021-08-19T02:50:26.938Z</td>\n",
       "      <td>80 km ENE of Chignik, Alaska</td>\n",
       "      <td>earthquake</td>\n",
       "      <td>1</td>\n",
       "      <td>ak</td>\n",
       "    </tr>\n",
       "  </tbody>\n",
       "</table>\n",
       "</div>"
      ]
     },
     "metadata": {},
     "execution_count": 20
    }
   ],
   "metadata": {}
  },
  {
   "cell_type": "code",
   "execution_count": 22,
   "source": [
    "y = data[\"type_encoder\"]\n",
    "target_names = [\"earthquake\", \"not an earthquake\"]"
   ],
   "outputs": [],
   "metadata": {}
  },
  {
   "cell_type": "code",
   "execution_count": 23,
   "source": [
    "X = data.drop([\"tsunami\", \"Unnamed: 0\", \"id\", \"felt\", \"time\", \"magType\", \"gap\", \"net\", \"updated\", \"place\", \"type\", \"locationSource\", \"type_encoder\"], axis =1)\n",
    "X.head()"
   ],
   "outputs": [
    {
     "output_type": "execute_result",
     "data": {
      "text/plain": [
       "    latitude   longitude   depth   mag\n",
       "0  38.541200 -119.463900    3.60  1.30\n",
       "1  35.896667 -117.729167    4.48  0.72\n",
       "2  59.865100 -153.176400  102.60  1.60\n",
       "3  38.784668 -122.751000    0.33  1.03\n",
       "4  56.657400 -157.265100    0.50  2.90"
      ],
      "text/html": [
       "<div>\n",
       "<style scoped>\n",
       "    .dataframe tbody tr th:only-of-type {\n",
       "        vertical-align: middle;\n",
       "    }\n",
       "\n",
       "    .dataframe tbody tr th {\n",
       "        vertical-align: top;\n",
       "    }\n",
       "\n",
       "    .dataframe thead th {\n",
       "        text-align: right;\n",
       "    }\n",
       "</style>\n",
       "<table border=\"1\" class=\"dataframe\">\n",
       "  <thead>\n",
       "    <tr style=\"text-align: right;\">\n",
       "      <th></th>\n",
       "      <th>latitude</th>\n",
       "      <th>longitude</th>\n",
       "      <th>depth</th>\n",
       "      <th>mag</th>\n",
       "    </tr>\n",
       "  </thead>\n",
       "  <tbody>\n",
       "    <tr>\n",
       "      <th>0</th>\n",
       "      <td>38.541200</td>\n",
       "      <td>-119.463900</td>\n",
       "      <td>3.60</td>\n",
       "      <td>1.30</td>\n",
       "    </tr>\n",
       "    <tr>\n",
       "      <th>1</th>\n",
       "      <td>35.896667</td>\n",
       "      <td>-117.729167</td>\n",
       "      <td>4.48</td>\n",
       "      <td>0.72</td>\n",
       "    </tr>\n",
       "    <tr>\n",
       "      <th>2</th>\n",
       "      <td>59.865100</td>\n",
       "      <td>-153.176400</td>\n",
       "      <td>102.60</td>\n",
       "      <td>1.60</td>\n",
       "    </tr>\n",
       "    <tr>\n",
       "      <th>3</th>\n",
       "      <td>38.784668</td>\n",
       "      <td>-122.751000</td>\n",
       "      <td>0.33</td>\n",
       "      <td>1.03</td>\n",
       "    </tr>\n",
       "    <tr>\n",
       "      <th>4</th>\n",
       "      <td>56.657400</td>\n",
       "      <td>-157.265100</td>\n",
       "      <td>0.50</td>\n",
       "      <td>2.90</td>\n",
       "    </tr>\n",
       "  </tbody>\n",
       "</table>\n",
       "</div>"
      ]
     },
     "metadata": {},
     "execution_count": 23
    }
   ],
   "metadata": {}
  },
  {
   "cell_type": "code",
   "execution_count": 24,
   "source": [
    "X_train, X_test, y_train, y_test = train_test_split(X, y, random_state=42)"
   ],
   "outputs": [],
   "metadata": {}
  },
  {
   "cell_type": "code",
   "execution_count": 25,
   "source": [
    "from sklearn.preprocessing import StandardScaler\n",
    "\n",
    "# Create a StandardScater model and fit it to the training data\n",
    "\n",
    "X_scaler = StandardScaler().fit(X_train)"
   ],
   "outputs": [],
   "metadata": {}
  },
  {
   "cell_type": "code",
   "execution_count": 26,
   "source": [
    "# Transform the training and testing data using the X_scaler and y_scaler models\n",
    "\n",
    "X_train_scaled = X_scaler.transform(X_train)\n",
    "X_test_scaled = X_scaler.transform(X_test)"
   ],
   "outputs": [],
   "metadata": {}
  },
  {
   "cell_type": "code",
   "execution_count": 27,
   "source": [
    "train_scores = []\n",
    "test_scores = []\n",
    "for k in range(1, 20, 2):\n",
    "    knn = KNeighborsClassifier(n_neighbors=k)\n",
    "    knn.fit(X_train_scaled, y_train)\n",
    "    train_score = knn.score(X_train_scaled, y_train)\n",
    "    test_score = knn.score(X_test_scaled, y_test)\n",
    "    train_scores.append(train_score)\n",
    "    test_scores.append(test_score)\n",
    "    print(f\"k: {k}, Train/Test Score: {train_score:.3f}/{test_score:.3f}\")   \n",
    "    \n",
    "plt.plot(range(1, 20, 2), train_scores, marker='o')\n",
    "plt.plot(range(1, 20, 2), test_scores, marker=\"x\")\n",
    "plt.xlabel(\"k neighbors\")\n",
    "plt.ylabel(\"Testing accuracy Score\")\n",
    "plt.show()"
   ],
   "outputs": [
    {
     "output_type": "stream",
     "name": "stdout",
     "text": [
      "k: 1, Train/Test Score: 1.000/0.990\n",
      "k: 3, Train/Test Score: 0.993/0.991\n",
      "k: 5, Train/Test Score: 0.992/0.990\n",
      "k: 7, Train/Test Score: 0.992/0.990\n",
      "k: 9, Train/Test Score: 0.992/0.990\n",
      "k: 11, Train/Test Score: 0.992/0.989\n",
      "k: 13, Train/Test Score: 0.990/0.989\n",
      "k: 15, Train/Test Score: 0.988/0.990\n",
      "k: 17, Train/Test Score: 0.988/0.990\n",
      "k: 19, Train/Test Score: 0.988/0.990\n"
     ]
    },
    {
     "output_type": "display_data",
     "data": {
      "text/plain": [
       "<Figure size 432x288 with 1 Axes>"
      ],
      "image/png": "[encoded data removed]"
     },
     "metadata": {
      "needs_background": "light",
      "transient": {}
     }
    }
   ],
   "metadata": {}
  },
  {
   "cell_type": "code",
   "execution_count": 29,
   "source": [
    "knn = KNeighborsClassifier(n_neighbors=13)\n",
    "knn.fit(X_train_scaled, y_train)\n",
    "print('k=13 Test Acc: %.3f' % knn.score(X_test_scaled, y_test))"
   ],
   "outputs": [
    {
     "output_type": "stream",
     "name": "stdout",
     "text": [
      "k=13 Test Acc: 0.989\n"
     ]
    }
   ],
   "metadata": {}
  },
  {
   "cell_type": "code",
   "execution_count": 32,
   "source": [
    "classifier = LogisticRegression()"
   ],
   "outputs": [],
   "metadata": {}
  },
  {
   "cell_type": "code",
   "execution_count": 33,
   "source": [
    "classifier.fit(X_train, y_train)"
   ],
   "outputs": [
    {
     "output_type": "execute_result",
     "data": {
      "text/plain": [
       "LogisticRegression()"
      ]
     },
     "metadata": {},
     "execution_count": 33
    }
   ],
   "metadata": {}
  },
  {
   "cell_type": "code",
   "execution_count": 34,
   "source": [
    "print(f\"Training Data Score: {classifier.score(X_train, y_train)}\")\n",
    "print(f\"Testing Data Score: {classifier.score(X_test, y_test)}\")"
   ],
   "outputs": [
    {
     "output_type": "stream",
     "name": "stdout",
     "text": [
      "Training Data Score: 0.977982385908727\n",
      "Testing Data Score: 0.9807865505854098\n"
     ]
    }
   ],
   "metadata": {}
  },
  {
   "cell_type": "code",
   "execution_count": 38,
   "source": [
    "predictions = classifier.predict(X_test)\n",
    "pred_actual_df = pd.DataFrame({\"Prediction\": predictions, \"Actual\": y_test})"
   ],
   "outputs": [
    {
     "output_type": "execute_result",
     "data": {
      "text/plain": [
       "       Prediction  Actual\n",
       "8870            1       1\n",
       "5046            1       1\n",
       "12788           1       1\n",
       "3499            1       1\n",
       "9965            1       1\n",
       "...           ...     ...\n",
       "7224            1       1\n",
       "5640            1       1\n",
       "5438            1       1\n",
       "11880           1       1\n",
       "2648            1       1\n",
       "\n",
       "[3331 rows x 2 columns]"
      ],
      "text/html": [
       "<div>\n",
       "<style scoped>\n",
       "    .dataframe tbody tr th:only-of-type {\n",
       "        vertical-align: middle;\n",
       "    }\n",
       "\n",
       "    .dataframe tbody tr th {\n",
       "        vertical-align: top;\n",
       "    }\n",
       "\n",
       "    .dataframe thead th {\n",
       "        text-align: right;\n",
       "    }\n",
       "</style>\n",
       "<table border=\"1\" class=\"dataframe\">\n",
       "  <thead>\n",
       "    <tr style=\"text-align: right;\">\n",
       "      <th></th>\n",
       "      <th>Prediction</th>\n",
       "      <th>Actual</th>\n",
       "    </tr>\n",
       "  </thead>\n",
       "  <tbody>\n",
       "    <tr>\n",
       "      <th>8870</th>\n",
       "      <td>1</td>\n",
       "      <td>1</td>\n",
       "    </tr>\n",
       "    <tr>\n",
       "      <th>5046</th>\n",
       "      <td>1</td>\n",
       "      <td>1</td>\n",
       "    </tr>\n",
       "    <tr>\n",
       "      <th>12788</th>\n",
       "      <td>1</td>\n",
       "      <td>1</td>\n",
       "    </tr>\n",
       "    <tr>\n",
       "      <th>3499</th>\n",
       "      <td>1</td>\n",
       "      <td>1</td>\n",
       "    </tr>\n",
       "    <tr>\n",
       "      <th>9965</th>\n",
       "      <td>1</td>\n",
       "      <td>1</td>\n",
       "    </tr>\n",
       "    <tr>\n",
       "      <th>...</th>\n",
       "      <td>...</td>\n",
       "      <td>...</td>\n",
       "    </tr>\n",
       "    <tr>\n",
       "      <th>7224</th>\n",
       "      <td>1</td>\n",
       "      <td>1</td>\n",
       "    </tr>\n",
       "    <tr>\n",
       "      <th>5640</th>\n",
       "      <td>1</td>\n",
       "      <td>1</td>\n",
       "    </tr>\n",
       "    <tr>\n",
       "      <th>5438</th>\n",
       "      <td>1</td>\n",
       "      <td>1</td>\n",
       "    </tr>\n",
       "    <tr>\n",
       "      <th>11880</th>\n",
       "      <td>1</td>\n",
       "      <td>1</td>\n",
       "    </tr>\n",
       "    <tr>\n",
       "      <th>2648</th>\n",
       "      <td>1</td>\n",
       "      <td>1</td>\n",
       "    </tr>\n",
       "  </tbody>\n",
       "</table>\n",
       "<p>3331 rows × 2 columns</p>\n",
       "</div>"
      ]
     },
     "metadata": {},
     "execution_count": 38
    }
   ],
   "metadata": {}
  },
  {
   "cell_type": "markdown",
   "source": [
    "### Create csv and load to database"
   ],
   "metadata": {}
  },
  {
   "cell_type": "code",
   "execution_count": null,
   "source": [
    "# pred_actual_df.to_csv('predicted_types.csv', index_col = 0)\n",
    "# pred_actual_df.to_sql('type_model_data', engine, if_exists='replace', index = False)"
   ],
   "outputs": [],
   "metadata": {}
  },
  {
   "cell_type": "markdown",
   "source": [
    "### Close connection"
   ],
   "metadata": {}
  },
  {
   "cell_type": "code",
   "execution_count": null,
   "source": [
    "# connection.close()"
   ],
   "outputs": [],
   "metadata": {}
  }
 ],
 "metadata": {
  "kernelspec": {
   "display_name": "Python 3.7.9 64-bit ('PythonData': conda)",
   "metadata": {
    "interpreter": {
     "hash": "09b9fd081e3d0d3e582ec8770b3e1541d577f0aa57c748b8ddd47553873ffc88"
    }
   },
   "name": "python3"
  },
  "language_info": {
   "codemirror_mode": {
    "name": "ipython",
    "version": 3
   },
   "file_extension": ".py",
   "mimetype": "text/x-python",
   "name": "python",
   "nbconvert_exporter": "python",
   "pygments_lexer": "ipython3",
   "version": "3.7.9"
  },
  "orig_nbformat": 2
 },
 "nbformat": 4,
 "nbformat_minor": 2
}