{
 "cells": [
  {
   "cell_type": "code",
   "execution_count": 10,
   "source": [
    "# import sklearn and random forest\r\n",
    "from sklearn.ensemble import RandomForestClassifier\r\n",
    "from sklearn.ensemble import RandomForestRegressor\r\n",
    "from sklearn.metrics import mean_squared_error, r2_score\r\n",
    "from sklearn import metrics\r\n",
    "import pandas as pd"
   ],
   "outputs": [],
   "metadata": {}
  },
  {
   "cell_type": "code",
   "execution_count": 31,
   "source": [
    "# pull csv into df\r\n",
    "origin_df = pd.read_csv(\"./Data_Extraction_Transform/dropped_cols_month_earthquake.csv\", index_col= 0)\r\n",
    "origin_df[\"unixTime\"] = pd.to_datetime(origin_df['time']).astype(int) / 10**9\r\n",
    "origin_df.head()\r\n",
    "origin_df.shape"
   ],
   "outputs": [
    {
     "output_type": "execute_result",
     "data": {
      "text/plain": [
       "(13323, 16)"
      ]
     },
     "metadata": {},
     "execution_count": 31
    }
   ],
   "metadata": {}
  },
  {
   "cell_type": "code",
   "execution_count": 32,
   "source": [
    "# grabbing our predictor and predicted columns from original df.\r\n",
    "independent = [\"unixTime\", \"latitude\", \"longitude\"]\r\n",
    "dependent = [\"mag\", \"depth\"]\r\n",
    "X = origin_df[independent]\r\n",
    "y = origin_df[dependent]"
   ],
   "outputs": [],
   "metadata": {}
  },
  {
   "cell_type": "code",
   "execution_count": 38,
   "source": [
    "# setting training and test data\r\n",
    "from sklearn.model_selection import train_test_split\r\n",
    "X_train, X_test, y_train, y_test = train_test_split(X, y, test_size=0.2, random_state=42)"
   ],
   "outputs": [],
   "metadata": {}
  },
  {
   "cell_type": "code",
   "execution_count": 42,
   "source": [
    "for i in range(1, 4):\r\n",
    "    model = RandomForestRegressor(n_estimators = i*+1, random_state=42)\r\n",
    "    model.fit(X_train, y_train)\r\n",
    "    y_pred = model.predict(X_test)\r\n",
    "    mse = mean_squared_error(y_test, y_pred)\r\n",
    "\r\n",
    "    r2 = r2_score(y_test, y_pred)\r\n",
    "    score = model.score(X_test, y_test)\r\n",
    "    print(\"n_estimators={}:\".format(estimators))\r\n",
    "    print(\"\\tMean Squared Error:\", mse, end = \", \")\r\n",
    "    print(\"\\tR2 score:\", r2, end = \", \")\r\n",
    "    print(\"\\tModel score:\", score)"
   ],
   "outputs": [
    {
     "output_type": "stream",
     "name": "stderr",
     "text": [
      "C:\\Users\\huayu\\anaconda3\\envs\\PythonData\\lib\\site-packages\\ipykernel_launcher.py:3: DataConversionWarning: A column-vector y was passed when a 1d array was expected. Please change the shape of y to (n_samples,), for example using ravel().\n",
      "  This is separate from the ipykernel package so we can avoid doing imports until\n",
      "C:\\Users\\huayu\\anaconda3\\envs\\PythonData\\lib\\site-packages\\ipykernel_launcher.py:3: DataConversionWarning: A column-vector y was passed when a 1d array was expected. Please change the shape of y to (n_samples,), for example using ravel().\n",
      "  This is separate from the ipykernel package so we can avoid doing imports until\n",
      "C:\\Users\\huayu\\anaconda3\\envs\\PythonData\\lib\\site-packages\\ipykernel_launcher.py:3: DataConversionWarning: A column-vector y was passed when a 1d array was expected. Please change the shape of y to (n_samples,), for example using ravel().\n",
      "  This is separate from the ipykernel package so we can avoid doing imports until\n"
     ]
    },
    {
     "output_type": "stream",
     "name": "stdout",
     "text": [
      "n_estimators=112:\n",
      "\tMean Squared Error: 0.0, \tR2 score: 1.0, \tModel score: 1.0\n",
      "n_estimators=112:\n",
      "\tMean Squared Error: 9.380863039399625e-05, \tR2 score: 0.8749061209162599, \tModel score: 0.8749061209162599\n",
      "n_estimators=112:\n",
      "\tMean Squared Error: 0.0001250781738586617, \tR2 score: 0.8332081612216797, \tModel score: 0.8332081612216797\n"
     ]
    }
   ],
   "metadata": {}
  },
  {
   "cell_type": "code",
   "execution_count": 37,
   "source": [
    "# tsunami test\r\n",
    "predictors = [\"mag\", \"depth\", \"latitude\",\"longitude\"]\r\n",
    "pred_values = [\"tsunami\"]\r\n",
    "X = origin_df[predictors]\r\n",
    "y = origin_df[pred_values]"
   ],
   "outputs": [],
   "metadata": {}
  },
  {
   "cell_type": "code",
   "execution_count": 21,
   "source": [
    "# setting training and test data\r\n",
    "from sklearn.model_selection import train_test_split\r\n",
    "X_train, X_test, y_train, y_test = train_test_split(X, y, test_size=0.2, random_state=42)"
   ],
   "outputs": [],
   "metadata": {}
  },
  {
   "cell_type": "code",
   "execution_count": 43,
   "source": [
    "best_model = None\r\n",
    "best_score = 0\r\n",
    "\r\n",
    "# I've tried running this model until the error rate stops improving, but it takes forever, so I'll revert it back to a finite loop first.\r\n",
    "epsilon = 0.01\r\n",
    "old_error = float('inf')\r\n",
    "i = 1\r\n",
    "while True:\r\n",
    "    estimators = i*4\r\n",
    "    model = RandomForestRegressor(n_estimators = estimators, random_state=42)\r\n",
    "    model.fit(X_train, y_train)\r\n",
    "    y_pred = model.predict(X_test)\r\n",
    "    mse = mean_squared_error(y_test, y_pred)\r\n",
    "\r\n",
    "    r2 = r2_score(y_test, y_pred)\r\n",
    "    score = model.score(X_test, y_test)\r\n",
    "    print(\"n_estimators={}:\".format(estimators))\r\n",
    "    print(\"\\tMean Squared Error:\", mse, end = \", \")\r\n",
    "    print(\"\\tR2 score:\", r2, end = \", \")\r\n",
    "    print(\"\\tModel score:\", score)\r\n",
    "    if abs(old_error - mse) <= epsilon:\r\n",
    "        print(old_error)\r\n",
    "        print(mse)\r\n",
    "        print(old_error - mse)\r\n",
    "        print(\"No improvement\")\r\n",
    "        break\r\n",
    "    old_error = mse\r\n",
    "    if best_score < score:\r\n",
    "        best_score = score\r\n",
    "        best_model = model\r\n",
    "    i += 1"
   ],
   "outputs": [
    {
     "output_type": "stream",
     "name": "stderr",
     "text": [
      "C:\\Users\\huayu\\anaconda3\\envs\\PythonData\\lib\\site-packages\\ipykernel_launcher.py:11: DataConversionWarning: A column-vector y was passed when a 1d array was expected. Please change the shape of y to (n_samples,), for example using ravel().\n",
      "  # This is added back by InteractiveShellApp.init_path()\n",
      "C:\\Users\\huayu\\anaconda3\\envs\\PythonData\\lib\\site-packages\\ipykernel_launcher.py:11: DataConversionWarning: A column-vector y was passed when a 1d array was expected. Please change the shape of y to (n_samples,), for example using ravel().\n",
      "  # This is added back by InteractiveShellApp.init_path()\n"
     ]
    },
    {
     "output_type": "stream",
     "name": "stdout",
     "text": [
      "n_estimators=4:\n",
      "\tMean Squared Error: 0.00016416510318949343, \tR2 score: 0.7810857116034547, \tModel score: 0.7810857116034547\n",
      "n_estimators=8:\n",
      "\tMean Squared Error: 0.00011139774859287054, \tR2 score: 0.8514510185880586, \tModel score: 0.8514510185880586\n",
      "0.00016416510318949343\n",
      "0.00011139774859287054\n",
      "5.276735459662289e-05\n",
      "No improvement\n"
     ]
    }
   ],
   "metadata": {}
  },
  {
   "cell_type": "code",
   "execution_count": 23,
   "source": [
    "y_pred = best_model.predict(X_test)\r\n",
    "mse = mean_squared_error(y_test, y_pred)\r\n",
    "# max_err = max_error(y_pred, y_test)\r\n",
    "r2 = r2_score(y_test, y_pred)\r\n",
    "score = best_model.score(X_test, y_test)\r\n",
    "print(\"Mean Squared Error:\", mse)\r\n",
    "print(\"R2 score:\", r2)\r\n",
    "print(\"Model score:\", score)"
   ],
   "outputs": [
    {
     "output_type": "stream",
     "name": "stdout",
     "text": [
      "Mean Squared Error: 0.00016416510318949343\n",
      "R2 score: 0.7810857116034547\n",
      "Model score: 0.7810857116034547\n"
     ]
    }
   ],
   "metadata": {}
  },
  {
   "cell_type": "code",
   "execution_count": null,
   "source": [],
   "outputs": [],
   "metadata": {}
  }
 ],
 "metadata": {
  "orig_nbformat": 4,
  "language_info": {
   "name": "python",
   "version": "3.7.9",
   "mimetype": "text/x-python",
   "codemirror_mode": {
    "name": "ipython",
    "version": 3
   },
   "pygments_lexer": "ipython3",
   "nbconvert_exporter": "python",
   "file_extension": ".py"
  },
  "kernelspec": {
   "name": "python3",
   "display_name": "Python 3.7.9 64-bit ('PythonData': conda)"
  },
  "interpreter": {
   "hash": "3caff1f6fb90138d0919c9d826d38659908ba61fc9999fc75443d91f43160cd9"
  }
 },
 "nbformat": 4,
 "nbformat_minor": 2
}