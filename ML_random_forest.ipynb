{
 "cells": [
  {
   "cell_type": "code",
   "execution_count": null,
   "source": [
    "# Big thanks to Chen Zecharya, creator of Random Forest code re: Earthquakes on Kaggle for the base ML model."
   ],
   "outputs": [],
   "metadata": {}
  },
  {
   "cell_type": "code",
   "execution_count": 1,
   "source": [
    "# import sklearn and random forest\r\n",
    "from sklearn.ensemble import RandomForestClassifier\r\n",
    "from sklearn.ensemble import RandomForestRegressor\r\n",
    "from sklearn.metrics import mean_squared_error, r2_score\r\n",
    "from sklearn import metrics\r\n",
    "import pandas as pd"
   ],
   "outputs": [],
   "metadata": {}
  },
  {
   "cell_type": "markdown",
   "source": [
    "## Testing modeling of magnitude with new dataset including nst and rms values."
   ],
   "metadata": {}
  },
  {
   "cell_type": "code",
   "execution_count": 2,
   "source": [
    "# pulling test csv into df\r\n",
    "test_df = pd.read_csv(\"./Data_Extraction_transform/DroppedTestwithRMSandNST.csv\", index_col = 0)\r\n",
    "test_df[\"unixTime\"] = pd.to_datetime(test_df['time']).astype(int) / 10**9\r\n",
    "test_nst_df = test_df.loc[test_df[\"nst\"] >= 7]\r\n",
    "test_nst_df.shape"
   ],
   "outputs": [
    {
     "output_type": "execute_result",
     "data": {
      "text/plain": [
       "(11013, 17)"
      ]
     },
     "metadata": {},
     "execution_count": 2
    }
   ],
   "metadata": {}
  },
  {
   "cell_type": "code",
   "execution_count": 3,
   "source": [
    "# testing magnitude test\r\n",
    "independent = [\"unixTime\", \"latitude\", \"longitude\", \"nst\", \"rms\"]\r\n",
    "dependent = [\"mag\"]\r\n",
    "X = test_nst_df[independent]\r\n",
    "y = test_nst_df[dependent]"
   ],
   "outputs": [],
   "metadata": {}
  },
  {
   "cell_type": "code",
   "execution_count": 4,
   "source": [
    "# setting training and test data\r\n",
    "from sklearn.model_selection import train_test_split\r\n",
    "X_train, X_test, y_train, y_test = train_test_split(X, y, test_size=0.2, random_state=42)\r\n",
    "import warnings \r\n",
    "warnings.filterwarnings(\"ignore\")\r\n",
    "# training and looking for best accuracy\r\n",
    "best_score = 0\r\n",
    "best_mse = 0\r\n",
    "best_model = None\r\n",
    "\r\n",
    "for i in range(1, 50):\r\n",
    "    model = RandomForestRegressor(n_estimators = i+1, random_state=42)\r\n",
    "    model.fit(X_train, y_train)\r\n",
    "    y_pred = model.predict(X_test)\r\n",
    "    mse = mean_squared_error(y_test, y_pred)\r\n",
    "\r\n",
    "    r2 = r2_score(y_test, y_pred)\r\n",
    "    score = model.score(X_test, y_test)\r\n",
    "\r\n",
    "    if best_score < score:\r\n",
    "        best_score = score\r\n",
    "        best_mse = mse\r\n",
    "        best_model = model\r\n",
    "\r\n",
    "print(f\"Best Model: {best_model}\")\r\n",
    "print(f\"Best MSE: {best_mse}\")\r\n",
    "print(f\"Best Model Score: {best_score}\")"
   ],
   "outputs": [
    {
     "output_type": "stream",
     "name": "stdout",
     "text": [
      "Best Model: RandomForestRegressor(n_estimators=48, random_state=42)\n",
      "Best MSE: 0.06924066300105776\n",
      "Best Model Score: 0.862718288813799\n"
     ]
    }
   ],
   "metadata": {}
  },
  {
   "cell_type": "code",
   "execution_count": 5,
   "source": [
    "best_y_pred = best_model.predict(X_test)\r\n",
    "predictions = best_y_pred.tolist()\r\n",
    "test = y_test[\"mag\"].tolist()\r\n",
    "\r\n",
    "prediction_df = pd.DataFrame({\"Actual Magnitude\": test, \"Predicted Magnitude\": predictions})\r\n",
    "prediction_df.head()\r\n",
    "prediction_df.to_csv(\"./ML_Predictions/mag_predictions.csv\")"
   ],
   "outputs": [],
   "metadata": {}
  },
  {
   "cell_type": "markdown",
   "source": [
    "## Testing modeling of depth using dataset with nst and rms values"
   ],
   "metadata": {}
  },
  {
   "cell_type": "code",
   "execution_count": 6,
   "source": [
    "# testing magnitude test\r\n",
    "independent = [\"unixTime\", \"latitude\", \"longitude\", \"nst\", \"rms\"]\r\n",
    "dependent = [\"depth\"]\r\n",
    "X = test_nst_df[independent]\r\n",
    "y = test_nst_df[dependent]"
   ],
   "outputs": [],
   "metadata": {}
  },
  {
   "cell_type": "code",
   "execution_count": 7,
   "source": [
    "# setting training and test data\r\n",
    "from sklearn.model_selection import train_test_split\r\n",
    "X_train, X_test, y_train, y_test = train_test_split(X, y, test_size=0.2, random_state=42)\r\n",
    "import warnings \r\n",
    "warnings.filterwarnings(\"ignore\")\r\n",
    "# training and looking for best accuracy\r\n",
    "best_score = 0\r\n",
    "best_mse = 0\r\n",
    "best_model = None\r\n",
    "\r\n",
    "for i in range(1, 50):\r\n",
    "    model = RandomForestRegressor(n_estimators = i+1, random_state=42)\r\n",
    "    model.fit(X_train, y_train)\r\n",
    "    y_pred = model.predict(X_test)\r\n",
    "    mse = mean_squared_error(y_test, y_pred)\r\n",
    "\r\n",
    "    r2 = r2_score(y_test, y_pred)\r\n",
    "    score = model.score(X_test, y_test)\r\n",
    "\r\n",
    "    if best_score < score:\r\n",
    "        best_score = score\r\n",
    "        best_mse = mse\r\n",
    "        best_model = model\r\n",
    "\r\n",
    "print(f\"Best Model: {best_model}\")\r\n",
    "print(f\"Best MSE: {best_mse}\")\r\n",
    "print(f\"Best Model Score: {best_score}\")"
   ],
   "outputs": [
    {
     "output_type": "stream",
     "name": "stdout",
     "text": [
      "Best Model: RandomForestRegressor(n_estimators=35, random_state=42)\n",
      "Best MSE: 18.809780898857564\n",
      "Best Model Score: 0.816501118005512\n"
     ]
    }
   ],
   "metadata": {}
  },
  {
   "cell_type": "code",
   "execution_count": 8,
   "source": [
    "best_y_pred = best_model.predict(X_test)\r\n",
    "predictions = best_y_pred.tolist()\r\n",
    "test = y_test[\"depth\"].tolist()\r\n",
    "\r\n",
    "prediction_df = pd.DataFrame({\"Actual Depth\": test, \"Predicted Depth\": predictions})\r\n",
    "prediction_df.head()\r\n",
    "prediction_df.to_csv(\"./ML_Predictions/depth_predictions.csv\")"
   ],
   "outputs": [],
   "metadata": {}
  },
  {
   "cell_type": "code",
   "execution_count": null,
   "source": [],
   "outputs": [],
   "metadata": {}
  }
 ],
 "metadata": {
  "orig_nbformat": 4,
  "language_info": {
   "name": "python",
   "version": "3.7.9",
   "mimetype": "text/x-python",
   "codemirror_mode": {
    "name": "ipython",
    "version": 3
   },
   "pygments_lexer": "ipython3",
   "nbconvert_exporter": "python",
   "file_extension": ".py"
  },
  "kernelspec": {
   "name": "python3",
   "display_name": "Python 3.7.9 64-bit ('PythonData': conda)"
  },
  "interpreter": {
   "hash": "3caff1f6fb90138d0919c9d826d38659908ba61fc9999fc75443d91f43160cd9"
  }
 },
 "nbformat": 4,
 "nbformat_minor": 2
}